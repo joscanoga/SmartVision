{
 "cells": [
  {
   "cell_type": "code",
   "execution_count": null,
   "id": "43823852",
   "metadata": {},
   "outputs": [
    {
     "name": "stdout",
     "output_type": "stream",
     "text": [
      "⚠️ Las carpetas y el GIF ya existen. No se ejecutará la función.\n"
     ]
    }
   ],
   "source": [
    "def transformar_imagen(ruta_imagen, salida_gif=\"animacion.gif\"):\n",
    "    carpeta_frames = \"frames_temp\"\n",
    "\n",
    "    #  Si ya existen los resultados, no ejecutar la función\n",
    "    if os.path.exists(carpeta_frames) and os.path.exists(salida_gif):\n",
    "        print(\"Las carpetas y el GIF ya existen. No se ejecutará la función.\")\n",
    "        return\n",
    "\n",
    "    # Crear carpeta temporal para los frames (solo si no existe)\n",
    "    os.makedirs(carpeta_frames, exist_ok=True)\n",
    "\n",
    "    # Cargar imagen original\n",
    "    img_original = Image.open(ruta_imagen).convert(\"RGBA\")\n",
    "    ancho, alto = img_original.size\n",
    "\n",
    "    # Lista para guardar los frames\n",
    "    frames = []\n",
    "\n",
    "    # Definir transformaciones (rotación, traslación, escala)\n",
    "    transformaciones = [\n",
    "        {\"rot\": 0,   \"tx\": 0,  \"ty\": 0,  \"scale\": 1.0},\n",
    "        {\"rot\": 15,  \"tx\": 20, \"ty\": 0,  \"scale\": 1.1},\n",
    "        {\"rot\": 30,  \"tx\": 40, \"ty\": 10, \"scale\": 1.2},\n",
    "        {\"rot\": 60,  \"tx\": 60, \"ty\": 20, \"scale\": 1.1},\n",
    "        {\"rot\": 90,  \"tx\": 80, \"ty\": 40, \"scale\": 0.9},\n",
    "        {\"rot\": 120, \"tx\": 60, \"ty\": 60, \"scale\": 0.8},\n",
    "        {\"rot\": 150, \"tx\": 40, \"ty\": 80, \"scale\": 0.9},\n",
    "        {\"rot\": 180, \"tx\": 0,  \"ty\": 100,\"scale\": 1.0},\n",
    "    ]\n",
    "\n",
    "    for i, t in enumerate(transformaciones):\n",
    "        # Aplicar escala\n",
    "        nuevo_ancho = int(ancho * t[\"scale\"])\n",
    "        nuevo_alto = int(alto * t[\"scale\"])\n",
    "        img_transformada = img_original.resize((nuevo_ancho, nuevo_alto))\n",
    "\n",
    "        # Aplicar rotación\n",
    "        img_transformada = img_transformada.rotate(t[\"rot\"], expand=True)\n",
    "\n",
    "        # Crear fondo blanco\n",
    "        fondo = Image.new(\"RGBA\", (ancho * 2, alto * 2), (255, 255, 255, 255))\n",
    "\n",
    "        # Calcular posición\n",
    "        x = ancho // 2 + t[\"tx\"]\n",
    "        y = alto // 2 + t[\"ty\"]\n",
    "\n",
    "        # Pegar imagen transformada\n",
    "        fondo.paste(img_transformada, (x, y), img_transformada)\n",
    "\n",
    "        # Guardar frame\n",
    "        frame_path = os.path.join(carpeta_frames, f\"frame_{i:02d}.png\")\n",
    "        fondo.save(frame_path)\n",
    "        frames.append(imageio.v3.imread(frame_path))\n",
    "\n",
    "    # Crear GIF con loop infinito\n",
    "    imageio.mimsave(salida_gif, frames, duration=0.5, loop=0)\n",
    "\n",
    "    print(f\" GIF generado correctamente: {salida_gif}\")\n",
    "    print(f\" Frames guardados en: {os.path.abspath(carpeta_frames)}\")\n",
    "\n",
    "# Ejemplo de uso \n",
    "# Primer parametro : Direccion de la imagen (Utilizaremos la imagen guardada en la carpeta images llamada 'Imagen_gif.jpeg' para utilzar otra simplemente cambiar la ruta)\n",
    "# Segundo parametro : Como se llamara el gif (Importante poner .gif al final)\n",
    "transformar_imagen(\"../images/Imagen_gif.jpeg\", \"transformaciones.gif\")\n"
   ]
  }
 ],
 "metadata": {
  "kernelspec": {
   "display_name": "Python 3",
   "language": "python",
   "name": "python3"
  },
  "language_info": {
   "codemirror_mode": {
    "name": "ipython",
    "version": 3
   },
   "file_extension": ".py",
   "mimetype": "text/x-python",
   "name": "python",
   "nbconvert_exporter": "python",
   "pygments_lexer": "ipython3",
   "version": "3.13.1"
  }
 },
 "nbformat": 4,
 "nbformat_minor": 5
}
